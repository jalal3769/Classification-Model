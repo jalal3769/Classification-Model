{
  "nbformat": 4,
  "nbformat_minor": 0,
  "metadata": {
    "colab": {
      "name": "Fuel Consumption prediction.ipynb",
      "provenance": [],
      "collapsed_sections": [],
      "mount_file_id": "1xETkFPdEuFET7Gr8r03FpMbh8DZG7uhW",
      "authorship_tag": "ABX9TyPcXb0GAiUvCLpm9Yz80Dnx",
      "include_colab_link": true
    },
    "kernelspec": {
      "name": "python3",
      "display_name": "Python 3"
    },
    "language_info": {
      "name": "python"
    }
  },
  "cells": [
    {
      "cell_type": "markdown",
      "metadata": {
        "id": "view-in-github",
        "colab_type": "text"
      },
      "source": [
        "<a href=\"https://colab.research.google.com/github/jalal3769/Classification-Model/blob/main/Fuel_Consumption_prediction.ipynb\" target=\"_parent\"><img src=\"https://colab.research.google.com/assets/colab-badge.svg\" alt=\"Open In Colab\"/></a>"
      ]
    },
    {
      "cell_type": "code",
      "execution_count": null,
      "metadata": {
        "id": "YC07GBVxZbvL"
      },
      "outputs": [],
      "source": [
        "import numpy as np\n",
        "import pandas as pd\n",
        "import matplotlib.pyplot as plt"
      ]
    },
    {
      "cell_type": "code",
      "source": [
        "df = pd.read_csv(\"/content/drive/MyDrive/Colab/DM & ML/FuelConsumption.csv\")\n",
        "df.head(10)"
      ],
      "metadata": {
        "colab": {
          "base_uri": "https://localhost:8080/",
          "height": 479
        },
        "id": "930lv2xbZgpv",
        "outputId": "f7012d07-9fad-477b-8b6b-6d18cfdf6e62"
      },
      "execution_count": null,
      "outputs": [
        {
          "output_type": "execute_result",
          "data": {
            "text/plain": [
              "   MODELYEAR   MAKE       MODEL VEHICLECLASS  ENGINESIZE  CYLINDERS  \\\n",
              "0       2014  ACURA         ILX      COMPACT         2.0          4   \n",
              "1       2014  ACURA         ILX      COMPACT         2.4          4   \n",
              "2       2014  ACURA  ILX HYBRID      COMPACT         1.5          4   \n",
              "3       2014  ACURA     MDX 4WD  SUV - SMALL         3.5          6   \n",
              "4       2014  ACURA     RDX AWD  SUV - SMALL         3.5          6   \n",
              "5       2014  ACURA         RLX     MID-SIZE         3.5          6   \n",
              "6       2014  ACURA          TL     MID-SIZE         3.5          6   \n",
              "7       2014  ACURA      TL AWD     MID-SIZE         3.7          6   \n",
              "8       2014  ACURA      TL AWD     MID-SIZE         3.7          6   \n",
              "9       2014  ACURA         TSX      COMPACT         2.4          4   \n",
              "\n",
              "  TRANSMISSION FUELTYPE  FUELCONSUMPTION_CITY  FUELCONSUMPTION_HWY  \\\n",
              "0          AS5        Z                   9.9                  6.7   \n",
              "1           M6        Z                  11.2                  7.7   \n",
              "2          AV7        Z                   6.0                  5.8   \n",
              "3          AS6        Z                  12.7                  9.1   \n",
              "4          AS6        Z                  12.1                  8.7   \n",
              "5          AS6        Z                  11.9                  7.7   \n",
              "6          AS6        Z                  11.8                  8.1   \n",
              "7          AS6        Z                  12.8                  9.0   \n",
              "8           M6        Z                  13.4                  9.5   \n",
              "9          AS5        Z                  10.6                  7.5   \n",
              "\n",
              "   FUELCONSUMPTION_COMB  FUELCONSUMPTION_COMB_MPG  CO2EMISSIONS  \n",
              "0                   8.5                        33           196  \n",
              "1                   9.6                        29           221  \n",
              "2                   5.9                        48           136  \n",
              "3                  11.1                        25           255  \n",
              "4                  10.6                        27           244  \n",
              "5                  10.0                        28           230  \n",
              "6                  10.1                        28           232  \n",
              "7                  11.1                        25           255  \n",
              "8                  11.6                        24           267  \n",
              "9                   9.2                        31           212  "
            ],
            "text/html": [
              "\n",
              "  <div id=\"df-32fb7cec-7e8b-4e0d-be50-9374a61a23b4\">\n",
              "    <div class=\"colab-df-container\">\n",
              "      <div>\n",
              "<style scoped>\n",
              "    .dataframe tbody tr th:only-of-type {\n",
              "        vertical-align: middle;\n",
              "    }\n",
              "\n",
              "    .dataframe tbody tr th {\n",
              "        vertical-align: top;\n",
              "    }\n",
              "\n",
              "    .dataframe thead th {\n",
              "        text-align: right;\n",
              "    }\n",
              "</style>\n",
              "<table border=\"1\" class=\"dataframe\">\n",
              "  <thead>\n",
              "    <tr style=\"text-align: right;\">\n",
              "      <th></th>\n",
              "      <th>MODELYEAR</th>\n",
              "      <th>MAKE</th>\n",
              "      <th>MODEL</th>\n",
              "      <th>VEHICLECLASS</th>\n",
              "      <th>ENGINESIZE</th>\n",
              "      <th>CYLINDERS</th>\n",
              "      <th>TRANSMISSION</th>\n",
              "      <th>FUELTYPE</th>\n",
              "      <th>FUELCONSUMPTION_CITY</th>\n",
              "      <th>FUELCONSUMPTION_HWY</th>\n",
              "      <th>FUELCONSUMPTION_COMB</th>\n",
              "      <th>FUELCONSUMPTION_COMB_MPG</th>\n",
              "      <th>CO2EMISSIONS</th>\n",
              "    </tr>\n",
              "  </thead>\n",
              "  <tbody>\n",
              "    <tr>\n",
              "      <th>0</th>\n",
              "      <td>2014</td>\n",
              "      <td>ACURA</td>\n",
              "      <td>ILX</td>\n",
              "      <td>COMPACT</td>\n",
              "      <td>2.0</td>\n",
              "      <td>4</td>\n",
              "      <td>AS5</td>\n",
              "      <td>Z</td>\n",
              "      <td>9.9</td>\n",
              "      <td>6.7</td>\n",
              "      <td>8.5</td>\n",
              "      <td>33</td>\n",
              "      <td>196</td>\n",
              "    </tr>\n",
              "    <tr>\n",
              "      <th>1</th>\n",
              "      <td>2014</td>\n",
              "      <td>ACURA</td>\n",
              "      <td>ILX</td>\n",
              "      <td>COMPACT</td>\n",
              "      <td>2.4</td>\n",
              "      <td>4</td>\n",
              "      <td>M6</td>\n",
              "      <td>Z</td>\n",
              "      <td>11.2</td>\n",
              "      <td>7.7</td>\n",
              "      <td>9.6</td>\n",
              "      <td>29</td>\n",
              "      <td>221</td>\n",
              "    </tr>\n",
              "    <tr>\n",
              "      <th>2</th>\n",
              "      <td>2014</td>\n",
              "      <td>ACURA</td>\n",
              "      <td>ILX HYBRID</td>\n",
              "      <td>COMPACT</td>\n",
              "      <td>1.5</td>\n",
              "      <td>4</td>\n",
              "      <td>AV7</td>\n",
              "      <td>Z</td>\n",
              "      <td>6.0</td>\n",
              "      <td>5.8</td>\n",
              "      <td>5.9</td>\n",
              "      <td>48</td>\n",
              "      <td>136</td>\n",
              "    </tr>\n",
              "    <tr>\n",
              "      <th>3</th>\n",
              "      <td>2014</td>\n",
              "      <td>ACURA</td>\n",
              "      <td>MDX 4WD</td>\n",
              "      <td>SUV - SMALL</td>\n",
              "      <td>3.5</td>\n",
              "      <td>6</td>\n",
              "      <td>AS6</td>\n",
              "      <td>Z</td>\n",
              "      <td>12.7</td>\n",
              "      <td>9.1</td>\n",
              "      <td>11.1</td>\n",
              "      <td>25</td>\n",
              "      <td>255</td>\n",
              "    </tr>\n",
              "    <tr>\n",
              "      <th>4</th>\n",
              "      <td>2014</td>\n",
              "      <td>ACURA</td>\n",
              "      <td>RDX AWD</td>\n",
              "      <td>SUV - SMALL</td>\n",
              "      <td>3.5</td>\n",
              "      <td>6</td>\n",
              "      <td>AS6</td>\n",
              "      <td>Z</td>\n",
              "      <td>12.1</td>\n",
              "      <td>8.7</td>\n",
              "      <td>10.6</td>\n",
              "      <td>27</td>\n",
              "      <td>244</td>\n",
              "    </tr>\n",
              "    <tr>\n",
              "      <th>5</th>\n",
              "      <td>2014</td>\n",
              "      <td>ACURA</td>\n",
              "      <td>RLX</td>\n",
              "      <td>MID-SIZE</td>\n",
              "      <td>3.5</td>\n",
              "      <td>6</td>\n",
              "      <td>AS6</td>\n",
              "      <td>Z</td>\n",
              "      <td>11.9</td>\n",
              "      <td>7.7</td>\n",
              "      <td>10.0</td>\n",
              "      <td>28</td>\n",
              "      <td>230</td>\n",
              "    </tr>\n",
              "    <tr>\n",
              "      <th>6</th>\n",
              "      <td>2014</td>\n",
              "      <td>ACURA</td>\n",
              "      <td>TL</td>\n",
              "      <td>MID-SIZE</td>\n",
              "      <td>3.5</td>\n",
              "      <td>6</td>\n",
              "      <td>AS6</td>\n",
              "      <td>Z</td>\n",
              "      <td>11.8</td>\n",
              "      <td>8.1</td>\n",
              "      <td>10.1</td>\n",
              "      <td>28</td>\n",
              "      <td>232</td>\n",
              "    </tr>\n",
              "    <tr>\n",
              "      <th>7</th>\n",
              "      <td>2014</td>\n",
              "      <td>ACURA</td>\n",
              "      <td>TL AWD</td>\n",
              "      <td>MID-SIZE</td>\n",
              "      <td>3.7</td>\n",
              "      <td>6</td>\n",
              "      <td>AS6</td>\n",
              "      <td>Z</td>\n",
              "      <td>12.8</td>\n",
              "      <td>9.0</td>\n",
              "      <td>11.1</td>\n",
              "      <td>25</td>\n",
              "      <td>255</td>\n",
              "    </tr>\n",
              "    <tr>\n",
              "      <th>8</th>\n",
              "      <td>2014</td>\n",
              "      <td>ACURA</td>\n",
              "      <td>TL AWD</td>\n",
              "      <td>MID-SIZE</td>\n",
              "      <td>3.7</td>\n",
              "      <td>6</td>\n",
              "      <td>M6</td>\n",
              "      <td>Z</td>\n",
              "      <td>13.4</td>\n",
              "      <td>9.5</td>\n",
              "      <td>11.6</td>\n",
              "      <td>24</td>\n",
              "      <td>267</td>\n",
              "    </tr>\n",
              "    <tr>\n",
              "      <th>9</th>\n",
              "      <td>2014</td>\n",
              "      <td>ACURA</td>\n",
              "      <td>TSX</td>\n",
              "      <td>COMPACT</td>\n",
              "      <td>2.4</td>\n",
              "      <td>4</td>\n",
              "      <td>AS5</td>\n",
              "      <td>Z</td>\n",
              "      <td>10.6</td>\n",
              "      <td>7.5</td>\n",
              "      <td>9.2</td>\n",
              "      <td>31</td>\n",
              "      <td>212</td>\n",
              "    </tr>\n",
              "  </tbody>\n",
              "</table>\n",
              "</div>\n",
              "      <button class=\"colab-df-convert\" onclick=\"convertToInteractive('df-32fb7cec-7e8b-4e0d-be50-9374a61a23b4')\"\n",
              "              title=\"Convert this dataframe to an interactive table.\"\n",
              "              style=\"display:none;\">\n",
              "        \n",
              "  <svg xmlns=\"http://www.w3.org/2000/svg\" height=\"24px\"viewBox=\"0 0 24 24\"\n",
              "       width=\"24px\">\n",
              "    <path d=\"M0 0h24v24H0V0z\" fill=\"none\"/>\n",
              "    <path d=\"M18.56 5.44l.94 2.06.94-2.06 2.06-.94-2.06-.94-.94-2.06-.94 2.06-2.06.94zm-11 1L8.5 8.5l.94-2.06 2.06-.94-2.06-.94L8.5 2.5l-.94 2.06-2.06.94zm10 10l.94 2.06.94-2.06 2.06-.94-2.06-.94-.94-2.06-.94 2.06-2.06.94z\"/><path d=\"M17.41 7.96l-1.37-1.37c-.4-.4-.92-.59-1.43-.59-.52 0-1.04.2-1.43.59L10.3 9.45l-7.72 7.72c-.78.78-.78 2.05 0 2.83L4 21.41c.39.39.9.59 1.41.59.51 0 1.02-.2 1.41-.59l7.78-7.78 2.81-2.81c.8-.78.8-2.07 0-2.86zM5.41 20L4 18.59l7.72-7.72 1.47 1.35L5.41 20z\"/>\n",
              "  </svg>\n",
              "      </button>\n",
              "      \n",
              "  <style>\n",
              "    .colab-df-container {\n",
              "      display:flex;\n",
              "      flex-wrap:wrap;\n",
              "      gap: 12px;\n",
              "    }\n",
              "\n",
              "    .colab-df-convert {\n",
              "      background-color: #E8F0FE;\n",
              "      border: none;\n",
              "      border-radius: 50%;\n",
              "      cursor: pointer;\n",
              "      display: none;\n",
              "      fill: #1967D2;\n",
              "      height: 32px;\n",
              "      padding: 0 0 0 0;\n",
              "      width: 32px;\n",
              "    }\n",
              "\n",
              "    .colab-df-convert:hover {\n",
              "      background-color: #E2EBFA;\n",
              "      box-shadow: 0px 1px 2px rgba(60, 64, 67, 0.3), 0px 1px 3px 1px rgba(60, 64, 67, 0.15);\n",
              "      fill: #174EA6;\n",
              "    }\n",
              "\n",
              "    [theme=dark] .colab-df-convert {\n",
              "      background-color: #3B4455;\n",
              "      fill: #D2E3FC;\n",
              "    }\n",
              "\n",
              "    [theme=dark] .colab-df-convert:hover {\n",
              "      background-color: #434B5C;\n",
              "      box-shadow: 0px 1px 3px 1px rgba(0, 0, 0, 0.15);\n",
              "      filter: drop-shadow(0px 1px 2px rgba(0, 0, 0, 0.3));\n",
              "      fill: #FFFFFF;\n",
              "    }\n",
              "  </style>\n",
              "\n",
              "      <script>\n",
              "        const buttonEl =\n",
              "          document.querySelector('#df-32fb7cec-7e8b-4e0d-be50-9374a61a23b4 button.colab-df-convert');\n",
              "        buttonEl.style.display =\n",
              "          google.colab.kernel.accessAllowed ? 'block' : 'none';\n",
              "\n",
              "        async function convertToInteractive(key) {\n",
              "          const element = document.querySelector('#df-32fb7cec-7e8b-4e0d-be50-9374a61a23b4');\n",
              "          const dataTable =\n",
              "            await google.colab.kernel.invokeFunction('convertToInteractive',\n",
              "                                                     [key], {});\n",
              "          if (!dataTable) return;\n",
              "\n",
              "          const docLinkHtml = 'Like what you see? Visit the ' +\n",
              "            '<a target=\"_blank\" href=https://colab.research.google.com/notebooks/data_table.ipynb>data table notebook</a>'\n",
              "            + ' to learn more about interactive tables.';\n",
              "          element.innerHTML = '';\n",
              "          dataTable['output_type'] = 'display_data';\n",
              "          await google.colab.output.renderOutput(dataTable, element);\n",
              "          const docLink = document.createElement('div');\n",
              "          docLink.innerHTML = docLinkHtml;\n",
              "          element.appendChild(docLink);\n",
              "        }\n",
              "      </script>\n",
              "    </div>\n",
              "  </div>\n",
              "  "
            ]
          },
          "metadata": {},
          "execution_count": 6
        }
      ]
    },
    {
      "cell_type": "code",
      "source": [
        "df.shape"
      ],
      "metadata": {
        "colab": {
          "base_uri": "https://localhost:8080/"
        },
        "id": "s9x_ELblZ6_P",
        "outputId": "18036080-0429-4ba7-9f23-5401ea1789e2"
      },
      "execution_count": null,
      "outputs": [
        {
          "output_type": "execute_result",
          "data": {
            "text/plain": [
              "(1067, 13)"
            ]
          },
          "metadata": {},
          "execution_count": 7
        }
      ]
    },
    {
      "cell_type": "code",
      "source": [
        "df.isnull().sum()"
      ],
      "metadata": {
        "colab": {
          "base_uri": "https://localhost:8080/"
        },
        "id": "xqk0s2OwZ9RX",
        "outputId": "1d5497a9-7f9a-4043-f1ce-8a2190c1e57b"
      },
      "execution_count": null,
      "outputs": [
        {
          "output_type": "execute_result",
          "data": {
            "text/plain": [
              "MODELYEAR                   0\n",
              "MAKE                        0\n",
              "MODEL                       0\n",
              "VEHICLECLASS                0\n",
              "ENGINESIZE                  0\n",
              "CYLINDERS                   0\n",
              "TRANSMISSION                0\n",
              "FUELTYPE                    0\n",
              "FUELCONSUMPTION_CITY        0\n",
              "FUELCONSUMPTION_HWY         0\n",
              "FUELCONSUMPTION_COMB        0\n",
              "FUELCONSUMPTION_COMB_MPG    0\n",
              "CO2EMISSIONS                0\n",
              "dtype: int64"
            ]
          },
          "metadata": {},
          "execution_count": 8
        }
      ]
    },
    {
      "cell_type": "code",
      "source": [
        "df.columns"
      ],
      "metadata": {
        "colab": {
          "base_uri": "https://localhost:8080/"
        },
        "id": "Jb5xhyiyZ_3n",
        "outputId": "2c65785a-0555-4d61-daa8-fdb3cfc4e30b"
      },
      "execution_count": null,
      "outputs": [
        {
          "output_type": "execute_result",
          "data": {
            "text/plain": [
              "Index(['MODELYEAR', 'MAKE', 'MODEL', 'VEHICLECLASS', 'ENGINESIZE', 'CYLINDERS',\n",
              "       'TRANSMISSION', 'FUELTYPE', 'FUELCONSUMPTION_CITY',\n",
              "       'FUELCONSUMPTION_HWY', 'FUELCONSUMPTION_COMB',\n",
              "       'FUELCONSUMPTION_COMB_MPG', 'CO2EMISSIONS'],\n",
              "      dtype='object')"
            ]
          },
          "metadata": {},
          "execution_count": 9
        }
      ]
    },
    {
      "cell_type": "code",
      "source": [
        "x=df[['ENGINESIZE']].values\n",
        "y=df['CO2EMISSIONS']"
      ],
      "metadata": {
        "id": "MJJy8iAKdjIR"
      },
      "execution_count": null,
      "outputs": []
    },
    {
      "cell_type": "code",
      "source": [
        "x"
      ],
      "metadata": {
        "colab": {
          "base_uri": "https://localhost:8080/"
        },
        "id": "Jfy99c0tdXiY",
        "outputId": "34902093-1250-485e-cb2f-4e947d060ce3"
      },
      "execution_count": null,
      "outputs": [
        {
          "output_type": "execute_result",
          "data": {
            "text/plain": [
              "array([[2. ],\n",
              "       [2.4],\n",
              "       [1.5],\n",
              "       ...,\n",
              "       [3. ],\n",
              "       [3.2],\n",
              "       [3.2]])"
            ]
          },
          "metadata": {},
          "execution_count": 43
        }
      ]
    },
    {
      "cell_type": "code",
      "source": [
        "y"
      ],
      "metadata": {
        "colab": {
          "base_uri": "https://localhost:8080/"
        },
        "id": "diCENocVfwyS",
        "outputId": "e3cc901c-b118-4987-f921-f187f5f6fa8c"
      },
      "execution_count": null,
      "outputs": [
        {
          "output_type": "execute_result",
          "data": {
            "text/plain": [
              "0       196\n",
              "1       221\n",
              "2       136\n",
              "3       255\n",
              "4       244\n",
              "       ... \n",
              "1062    271\n",
              "1063    264\n",
              "1064    271\n",
              "1065    260\n",
              "1066    294\n",
              "Name: CO2EMISSIONS, Length: 1067, dtype: int64"
            ]
          },
          "metadata": {},
          "execution_count": 40
        }
      ]
    },
    {
      "cell_type": "code",
      "source": [
        "plt.scatter(x,y, marker='+',color='red')\n",
        "plt.xlabel(\"ENGINESIZE\")\n",
        "plt.ylabel(\"CO2EMISSIONS\")\n",
        "plt.title(\"The Graph\")"
      ],
      "metadata": {
        "colab": {
          "base_uri": "https://localhost:8080/",
          "height": 312
        },
        "id": "fBLEzxg7bs8o",
        "outputId": "228b08cb-e21c-4a0d-d157-2697877e2a5f"
      },
      "execution_count": null,
      "outputs": [
        {
          "output_type": "execute_result",
          "data": {
            "text/plain": [
              "Text(0.5, 1.0, 'The Graph')"
            ]
          },
          "metadata": {},
          "execution_count": 44
        },
        {
          "output_type": "display_data",
          "data": {
            "text/plain": [
              "<Figure size 432x288 with 1 Axes>"
            ],
            "image/png": "[encoded data removed]"
          },
          "metadata": {
            "needs_background": "light"
          }
        }
      ]
    },
    {
      "cell_type": "code",
      "source": [
        "from sklearn.model_selection import train_test_split\n",
        "x_train,x_test,y_train,y_test=train_test_split(x,y,test_size=.25,random_state=1)"
      ],
      "metadata": {
        "id": "6Rc3q3iJa4-v"
      },
      "execution_count": null,
      "outputs": []
    },
    {
      "cell_type": "code",
      "source": [
        "x_test"
      ],
      "metadata": {
        "colab": {
          "base_uri": "https://localhost:8080/"
        },
        "id": "wdujbzVhdJL4",
        "outputId": "942d65b7-c4d2-4d5d-9a95-a79d184db1ff"
      },
      "execution_count": null,
      "outputs": [
        {
          "output_type": "execute_result",
          "data": {
            "text/plain": [
              "array([[3. ],\n",
              "       [1.4],\n",
              "       [2. ],\n",
              "       [2. ],\n",
              "       [4.6],\n",
              "       [3. ],\n",
              "       [2. ],\n",
              "       [1.8],\n",
              "       [3. ],\n",
              "       [2.4],\n",
              "       [2.4],\n",
              "       [3. ],\n",
              "       [2.4],\n",
              "       [5.2],\n",
              "       [2.5],\n",
              "       [2.5],\n",
              "       [1.6],\n",
              "       [4.4],\n",
              "       [3.5],\n",
              "       [2.4],\n",
              "       [6. ],\n",
              "       [2.5],\n",
              "       [3.7],\n",
              "       [3.5],\n",
              "       [3.7],\n",
              "       [3. ],\n",
              "       [1.2],\n",
              "       [5.5],\n",
              "       [1.6],\n",
              "       [2. ],\n",
              "       [3. ],\n",
              "       [5.2],\n",
              "       [3.5],\n",
              "       [5.3],\n",
              "       [4. ],\n",
              "       [5.3],\n",
              "       [6.2],\n",
              "       [1.5],\n",
              "       [4.2],\n",
              "       [3.3],\n",
              "       [3. ],\n",
              "       [6.3],\n",
              "       [2. ],\n",
              "       [3.6],\n",
              "       [3.7],\n",
              "       [2. ],\n",
              "       [1.4],\n",
              "       [1.4],\n",
              "       [2. ],\n",
              "       [3.4],\n",
              "       [1.6],\n",
              "       [5.7],\n",
              "       [4.3],\n",
              "       [6.2],\n",
              "       [2. ],\n",
              "       [3.7],\n",
              "       [2.5],\n",
              "       [5. ],\n",
              "       [3.7],\n",
              "       [1.6],\n",
              "       [2.4],\n",
              "       [2.7],\n",
              "       [2. ],\n",
              "       [2. ],\n",
              "       [2. ],\n",
              "       [1.8],\n",
              "       [3.7],\n",
              "       [3.6],\n",
              "       [2. ],\n",
              "       [1.6],\n",
              "       [2. ],\n",
              "       [2. ],\n",
              "       [3.6],\n",
              "       [3.5],\n",
              "       [5. ],\n",
              "       [6.2],\n",
              "       [2. ],\n",
              "       [6.2],\n",
              "       [2. ],\n",
              "       [3.7],\n",
              "       [6.2],\n",
              "       [1.4],\n",
              "       [5.7],\n",
              "       [5. ],\n",
              "       [2. ],\n",
              "       [6.2],\n",
              "       [3.8],\n",
              "       [3.5],\n",
              "       [2. ],\n",
              "       [3.6],\n",
              "       [5.3],\n",
              "       [4.4],\n",
              "       [2. ],\n",
              "       [3.5],\n",
              "       [2. ],\n",
              "       [2. ],\n",
              "       [5.3],\n",
              "       [6.7],\n",
              "       [2. ],\n",
              "       [4. ],\n",
              "       [2.4],\n",
              "       [6.2],\n",
              "       [2. ],\n",
              "       [3.5],\n",
              "       [1.6],\n",
              "       [4.4],\n",
              "       [1.8],\n",
              "       [5.3],\n",
              "       [1.8],\n",
              "       [2. ],\n",
              "       [2.4],\n",
              "       [6.2],\n",
              "       [5.5],\n",
              "       [4.4],\n",
              "       [5.3],\n",
              "       [3.5],\n",
              "       [2.5],\n",
              "       [2.5],\n",
              "       [5. ],\n",
              "       [2. ],\n",
              "       [3.8],\n",
              "       [4.3],\n",
              "       [2. ],\n",
              "       [3.7],\n",
              "       [2. ],\n",
              "       [2. ],\n",
              "       [5.7],\n",
              "       [5.7],\n",
              "       [4.7],\n",
              "       [2. ],\n",
              "       [2.4],\n",
              "       [1.6],\n",
              "       [3.6],\n",
              "       [3.6],\n",
              "       [5.3],\n",
              "       [4.7],\n",
              "       [5. ],\n",
              "       [1.6],\n",
              "       [5.3],\n",
              "       [2.4],\n",
              "       [1.4],\n",
              "       [2. ],\n",
              "       [2. ],\n",
              "       [1.2],\n",
              "       [4.7],\n",
              "       [2. ],\n",
              "       [5. ],\n",
              "       [5.4],\n",
              "       [5.3],\n",
              "       [3.6],\n",
              "       [2. ],\n",
              "       [3. ],\n",
              "       [5.9],\n",
              "       [5.6],\n",
              "       [3.5],\n",
              "       [2.5],\n",
              "       [3.5],\n",
              "       [6.2],\n",
              "       [1.8],\n",
              "       [2. ],\n",
              "       [1.6],\n",
              "       [3.6],\n",
              "       [4. ],\n",
              "       [1.4],\n",
              "       [3. ],\n",
              "       [5.7],\n",
              "       [2. ],\n",
              "       [3.5],\n",
              "       [5.7],\n",
              "       [3.5],\n",
              "       [3.7],\n",
              "       [4.7],\n",
              "       [4. ],\n",
              "       [1.6],\n",
              "       [5. ],\n",
              "       [3. ],\n",
              "       [6.2],\n",
              "       [3.4],\n",
              "       [1.5],\n",
              "       [6. ],\n",
              "       [4. ],\n",
              "       [5.3],\n",
              "       [3. ],\n",
              "       [1.4],\n",
              "       [3.5],\n",
              "       [3.5],\n",
              "       [2.4],\n",
              "       [3.5],\n",
              "       [3.5],\n",
              "       [1.4],\n",
              "       [2. ],\n",
              "       [1.6],\n",
              "       [2.4],\n",
              "       [6. ],\n",
              "       [4.4],\n",
              "       [3.6],\n",
              "       [3.5],\n",
              "       [3.4],\n",
              "       [5.7],\n",
              "       [4.4],\n",
              "       [3.5],\n",
              "       [3.8],\n",
              "       [3.5],\n",
              "       [3.6],\n",
              "       [3.6],\n",
              "       [2. ],\n",
              "       [1.6],\n",
              "       [3.8],\n",
              "       [2.4],\n",
              "       [3.6],\n",
              "       [1.6],\n",
              "       [3.8],\n",
              "       [3.7],\n",
              "       [2. ],\n",
              "       [3. ],\n",
              "       [6.4],\n",
              "       [2.5],\n",
              "       [4.8],\n",
              "       [4. ],\n",
              "       [1.5],\n",
              "       [1.6],\n",
              "       [2. ],\n",
              "       [3.2],\n",
              "       [3.6],\n",
              "       [6.2],\n",
              "       [3. ],\n",
              "       [4.4],\n",
              "       [2. ],\n",
              "       [3.5],\n",
              "       [3.5],\n",
              "       [3.5],\n",
              "       [1.6],\n",
              "       [1.4],\n",
              "       [5.7],\n",
              "       [5. ],\n",
              "       [2. ],\n",
              "       [1.4],\n",
              "       [3.6],\n",
              "       [5. ],\n",
              "       [5.6],\n",
              "       [4.8],\n",
              "       [2.5],\n",
              "       [2. ],\n",
              "       [6.2],\n",
              "       [5. ],\n",
              "       [3. ],\n",
              "       [1.6],\n",
              "       [3.4],\n",
              "       [2.4],\n",
              "       [3.7],\n",
              "       [5. ],\n",
              "       [3.7],\n",
              "       [3.5],\n",
              "       [5.7],\n",
              "       [1.6],\n",
              "       [3.2],\n",
              "       [5.2],\n",
              "       [4. ],\n",
              "       [5. ],\n",
              "       [3.6],\n",
              "       [3.5],\n",
              "       [3. ],\n",
              "       [4.3],\n",
              "       [5.6],\n",
              "       [1.8],\n",
              "       [3.5],\n",
              "       [2. ]])"
            ]
          },
          "metadata": {},
          "execution_count": 47
        }
      ]
    },
    {
      "cell_type": "code",
      "source": [
        "y_test"
      ],
      "metadata": {
        "colab": {
          "base_uri": "https://localhost:8080/"
        },
        "id": "ti-MhoIaeZzp",
        "outputId": "e94b5805-97cf-43ea-a039-dbb01484feea"
      },
      "execution_count": null,
      "outputs": [
        {
          "output_type": "execute_result",
          "data": {
            "text/plain": [
              "133     274\n",
              "340     200\n",
              "948     196\n",
              "704     161\n",
              "661     320\n",
              "       ... \n",
              "238     269\n",
              "546     345\n",
              "773     205\n",
              "354     264\n",
              "1041    186\n",
              "Name: CO2EMISSIONS, Length: 267, dtype: int64"
            ]
          },
          "metadata": {},
          "execution_count": 31
        }
      ]
    },
    {
      "cell_type": "code",
      "source": [
        "from sklearn.linear_model import LinearRegression\n",
        "reg=LinearRegression()"
      ],
      "metadata": {
        "id": "pNah5c7cbVhM"
      },
      "execution_count": null,
      "outputs": []
    },
    {
      "cell_type": "code",
      "source": [
        "reg.fit(x_train, y_train)"
      ],
      "metadata": {
        "colab": {
          "base_uri": "https://localhost:8080/"
        },
        "id": "0fQIH09ybasu",
        "outputId": "0fabfc55-3288-4df9-a736-683e0615da85"
      },
      "execution_count": null,
      "outputs": [
        {
          "output_type": "execute_result",
          "data": {
            "text/plain": [
              "LinearRegression()"
            ]
          },
          "metadata": {},
          "execution_count": 48
        }
      ]
    },
    {
      "cell_type": "code",
      "source": [
        "reg.predict(x_test)"
      ],
      "metadata": {
        "colab": {
          "base_uri": "https://localhost:8080/"
        },
        "id": "OiGQ7KjrbmBn",
        "outputId": "2669c2dc-3ac5-4fb7-9d7c-887aa4554048"
      },
      "execution_count": null,
      "outputs": [
        {
          "output_type": "execute_result",
          "data": {
            "text/plain": [
              "array([242.88082083, 179.60282889, 203.33207587, 203.33207587,\n",
              "       306.15881277, 242.88082083, 203.33207587, 195.42232688,\n",
              "       242.88082083, 219.15157386, 219.15157386, 242.88082083,\n",
              "       219.15157386, 329.88805975, 223.10644835, 223.10644835,\n",
              "       187.51257789, 298.24906378, 262.65519331, 219.15157386,\n",
              "       361.52705572, 223.10644835, 270.56494231, 262.65519331,\n",
              "       270.56494231, 242.88082083, 171.6930799 , 341.75268324,\n",
              "       187.51257789, 203.33207587, 242.88082083, 329.88805975,\n",
              "       262.65519331, 333.84293425, 282.42956579, 333.84293425,\n",
              "       369.43680471, 183.55770339, 290.33931479, 254.74544432,\n",
              "       242.88082083, 373.39167921, 203.33207587, 266.61006781,\n",
              "       270.56494231, 203.33207587, 179.60282889, 179.60282889,\n",
              "       203.33207587, 258.70031882, 187.51257789, 349.66243223,\n",
              "       294.29418928, 369.43680471, 203.33207587, 270.56494231,\n",
              "       223.10644835, 321.97831076, 270.56494231, 187.51257789,\n",
              "       219.15157386, 231.01619734, 203.33207587, 203.33207587,\n",
              "       203.33207587, 195.42232688, 270.56494231, 266.61006781,\n",
              "       203.33207587, 187.51257789, 203.33207587, 203.33207587,\n",
              "       266.61006781, 262.65519331, 321.97831076, 369.43680471,\n",
              "       203.33207587, 369.43680471, 203.33207587, 270.56494231,\n",
              "       369.43680471, 179.60282889, 349.66243223, 321.97831076,\n",
              "       203.33207587, 369.43680471, 274.5198168 , 262.65519331,\n",
              "       203.33207587, 266.61006781, 333.84293425, 298.24906378,\n",
              "       203.33207587, 262.65519331, 203.33207587, 203.33207587,\n",
              "       333.84293425, 389.21117719, 203.33207587, 282.42956579,\n",
              "       219.15157386, 369.43680471, 203.33207587, 262.65519331,\n",
              "       187.51257789, 298.24906378, 195.42232688, 333.84293425,\n",
              "       195.42232688, 203.33207587, 219.15157386, 369.43680471,\n",
              "       341.75268324, 298.24906378, 333.84293425, 262.65519331,\n",
              "       223.10644835, 223.10644835, 321.97831076, 203.33207587,\n",
              "       274.5198168 , 294.29418928, 203.33207587, 270.56494231,\n",
              "       203.33207587, 203.33207587, 349.66243223, 349.66243223,\n",
              "       310.11368727, 203.33207587, 219.15157386, 187.51257789,\n",
              "       266.61006781, 266.61006781, 333.84293425, 310.11368727,\n",
              "       321.97831076, 187.51257789, 333.84293425, 219.15157386,\n",
              "       179.60282889, 203.33207587, 203.33207587, 171.6930799 ,\n",
              "       310.11368727, 203.33207587, 321.97831076, 337.79780874,\n",
              "       333.84293425, 266.61006781, 203.33207587, 242.88082083,\n",
              "       357.57218122, 345.70755773, 262.65519331, 223.10644835,\n",
              "       262.65519331, 369.43680471, 195.42232688, 203.33207587,\n",
              "       187.51257789, 266.61006781, 282.42956579, 179.60282889,\n",
              "       242.88082083, 349.66243223, 203.33207587, 262.65519331,\n",
              "       349.66243223, 262.65519331, 270.56494231, 310.11368727,\n",
              "       282.42956579, 187.51257789, 321.97831076, 242.88082083,\n",
              "       369.43680471, 258.70031882, 183.55770339, 361.52705572,\n",
              "       282.42956579, 333.84293425, 242.88082083, 179.60282889,\n",
              "       262.65519331, 262.65519331, 219.15157386, 262.65519331,\n",
              "       262.65519331, 179.60282889, 203.33207587, 187.51257789,\n",
              "       219.15157386, 361.52705572, 298.24906378, 266.61006781,\n",
              "       262.65519331, 258.70031882, 349.66243223, 298.24906378,\n",
              "       262.65519331, 274.5198168 , 262.65519331, 266.61006781,\n",
              "       266.61006781, 203.33207587, 187.51257789, 274.5198168 ,\n",
              "       219.15157386, 266.61006781, 187.51257789, 274.5198168 ,\n",
              "       270.56494231, 203.33207587, 242.88082083, 377.3465537 ,\n",
              "       223.10644835, 314.06856176, 282.42956579, 183.55770339,\n",
              "       187.51257789, 203.33207587, 250.79056983, 266.61006781,\n",
              "       369.43680471, 242.88082083, 298.24906378, 203.33207587,\n",
              "       262.65519331, 262.65519331, 262.65519331, 187.51257789,\n",
              "       179.60282889, 349.66243223, 321.97831076, 203.33207587,\n",
              "       179.60282889, 266.61006781, 321.97831076, 345.70755773,\n",
              "       314.06856176, 223.10644835, 203.33207587, 369.43680471,\n",
              "       321.97831076, 242.88082083, 187.51257789, 258.70031882,\n",
              "       219.15157386, 270.56494231, 321.97831076, 270.56494231,\n",
              "       262.65519331, 349.66243223, 187.51257789, 250.79056983,\n",
              "       329.88805975, 282.42956579, 321.97831076, 266.61006781,\n",
              "       262.65519331, 242.88082083, 294.29418928, 345.70755773,\n",
              "       195.42232688, 262.65519331, 203.33207587])"
            ]
          },
          "metadata": {},
          "execution_count": 49
        }
      ]
    },
    {
      "cell_type": "code",
      "source": [
        "plt.plot(df['ENGINESIZE'],reg.predict(df[['ENGINESIZE']]))"
      ],
      "metadata": {
        "colab": {
          "base_uri": "https://localhost:8080/",
          "height": 317
        },
        "id": "O3MsBUasd6Vo",
        "outputId": "66e53758-e3c0-493d-e65e-c8dda026b998"
      },
      "execution_count": null,
      "outputs": [
        {
          "output_type": "stream",
          "name": "stderr",
          "text": [
            "/usr/local/lib/python3.7/dist-packages/sklearn/base.py:444: UserWarning: X has feature names, but LinearRegression was fitted without feature names\n",
            "  f\"X has feature names, but {self.__class__.__name__} was fitted without\"\n"
          ]
        },
        {
          "output_type": "execute_result",
          "data": {
            "text/plain": [
              "[<matplotlib.lines.Line2D at 0x7f63a5f8fe50>]"
            ]
          },
          "metadata": {},
          "execution_count": 33
        },
        {
          "output_type": "display_data",
          "data": {
            "text/plain": [
              "<Figure size 432x288 with 1 Axes>"
            ],
            "image/png": "[encoded data removed]"
          },
          "metadata": {
            "needs_background": "light"
          }
        }
      ]
    },
    {
      "cell_type": "code",
      "source": [
        "plt.scatter(x,y, marker='+',color='red')\n",
        "plt.xlabel(\"ENGINESIZE\")\n",
        "plt.ylabel(\"CO2EMISSIONS\")\n",
        "plt.title(\"The Graph\")\n",
        "plt.plot(df['ENGINESIZE'],reg.predict(df[['ENGINESIZE']]))"
      ],
      "metadata": {
        "colab": {
          "base_uri": "https://localhost:8080/",
          "height": 347
        },
        "id": "QvV2rlwTfiWp",
        "outputId": "4e379644-ca28-4137-8712-22f4cfa8cd18"
      },
      "execution_count": null,
      "outputs": [
        {
          "output_type": "stream",
          "name": "stderr",
          "text": [
            "/usr/local/lib/python3.7/dist-packages/sklearn/base.py:444: UserWarning: X has feature names, but LinearRegression was fitted without feature names\n",
            "  f\"X has feature names, but {self.__class__.__name__} was fitted without\"\n"
          ]
        },
        {
          "output_type": "execute_result",
          "data": {
            "text/plain": [
              "[<matplotlib.lines.Line2D at 0x7f63a5d346d0>]"
            ]
          },
          "metadata": {},
          "execution_count": 50
        },
        {
          "output_type": "display_data",
          "data": {
            "text/plain": [
              "<Figure size 432x288 with 1 Axes>"
            ],
            "image/png": "[encoded data removed]"
          },
          "metadata": {
            "needs_background": "light"
          }
        }
      ]
    },
    {
      "cell_type": "code",
      "source": [
        "reg.predict(x_test)"
      ],
      "metadata": {
        "colab": {
          "base_uri": "https://localhost:8080/"
        },
        "id": "KEe29jyZe4Kw",
        "outputId": "9c0fedeb-35a2-495d-9ac4-56cb3e32588d"
      },
      "execution_count": null,
      "outputs": [
        {
          "output_type": "execute_result",
          "data": {
            "text/plain": [
              "array([242.88082083, 179.60282889, 203.33207587, 203.33207587,\n",
              "       306.15881277, 242.88082083, 203.33207587, 195.42232688,\n",
              "       242.88082083, 219.15157386, 219.15157386, 242.88082083,\n",
              "       219.15157386, 329.88805975, 223.10644835, 223.10644835,\n",
              "       187.51257789, 298.24906378, 262.65519331, 219.15157386,\n",
              "       361.52705572, 223.10644835, 270.56494231, 262.65519331,\n",
              "       270.56494231, 242.88082083, 171.6930799 , 341.75268324,\n",
              "       187.51257789, 203.33207587, 242.88082083, 329.88805975,\n",
              "       262.65519331, 333.84293425, 282.42956579, 333.84293425,\n",
              "       369.43680471, 183.55770339, 290.33931479, 254.74544432,\n",
              "       242.88082083, 373.39167921, 203.33207587, 266.61006781,\n",
              "       270.56494231, 203.33207587, 179.60282889, 179.60282889,\n",
              "       203.33207587, 258.70031882, 187.51257789, 349.66243223,\n",
              "       294.29418928, 369.43680471, 203.33207587, 270.56494231,\n",
              "       223.10644835, 321.97831076, 270.56494231, 187.51257789,\n",
              "       219.15157386, 231.01619734, 203.33207587, 203.33207587,\n",
              "       203.33207587, 195.42232688, 270.56494231, 266.61006781,\n",
              "       203.33207587, 187.51257789, 203.33207587, 203.33207587,\n",
              "       266.61006781, 262.65519331, 321.97831076, 369.43680471,\n",
              "       203.33207587, 369.43680471, 203.33207587, 270.56494231,\n",
              "       369.43680471, 179.60282889, 349.66243223, 321.97831076,\n",
              "       203.33207587, 369.43680471, 274.5198168 , 262.65519331,\n",
              "       203.33207587, 266.61006781, 333.84293425, 298.24906378,\n",
              "       203.33207587, 262.65519331, 203.33207587, 203.33207587,\n",
              "       333.84293425, 389.21117719, 203.33207587, 282.42956579,\n",
              "       219.15157386, 369.43680471, 203.33207587, 262.65519331,\n",
              "       187.51257789, 298.24906378, 195.42232688, 333.84293425,\n",
              "       195.42232688, 203.33207587, 219.15157386, 369.43680471,\n",
              "       341.75268324, 298.24906378, 333.84293425, 262.65519331,\n",
              "       223.10644835, 223.10644835, 321.97831076, 203.33207587,\n",
              "       274.5198168 , 294.29418928, 203.33207587, 270.56494231,\n",
              "       203.33207587, 203.33207587, 349.66243223, 349.66243223,\n",
              "       310.11368727, 203.33207587, 219.15157386, 187.51257789,\n",
              "       266.61006781, 266.61006781, 333.84293425, 310.11368727,\n",
              "       321.97831076, 187.51257789, 333.84293425, 219.15157386,\n",
              "       179.60282889, 203.33207587, 203.33207587, 171.6930799 ,\n",
              "       310.11368727, 203.33207587, 321.97831076, 337.79780874,\n",
              "       333.84293425, 266.61006781, 203.33207587, 242.88082083,\n",
              "       357.57218122, 345.70755773, 262.65519331, 223.10644835,\n",
              "       262.65519331, 369.43680471, 195.42232688, 203.33207587,\n",
              "       187.51257789, 266.61006781, 282.42956579, 179.60282889,\n",
              "       242.88082083, 349.66243223, 203.33207587, 262.65519331,\n",
              "       349.66243223, 262.65519331, 270.56494231, 310.11368727,\n",
              "       282.42956579, 187.51257789, 321.97831076, 242.88082083,\n",
              "       369.43680471, 258.70031882, 183.55770339, 361.52705572,\n",
              "       282.42956579, 333.84293425, 242.88082083, 179.60282889,\n",
              "       262.65519331, 262.65519331, 219.15157386, 262.65519331,\n",
              "       262.65519331, 179.60282889, 203.33207587, 187.51257789,\n",
              "       219.15157386, 361.52705572, 298.24906378, 266.61006781,\n",
              "       262.65519331, 258.70031882, 349.66243223, 298.24906378,\n",
              "       262.65519331, 274.5198168 , 262.65519331, 266.61006781,\n",
              "       266.61006781, 203.33207587, 187.51257789, 274.5198168 ,\n",
              "       219.15157386, 266.61006781, 187.51257789, 274.5198168 ,\n",
              "       270.56494231, 203.33207587, 242.88082083, 377.3465537 ,\n",
              "       223.10644835, 314.06856176, 282.42956579, 183.55770339,\n",
              "       187.51257789, 203.33207587, 250.79056983, 266.61006781,\n",
              "       369.43680471, 242.88082083, 298.24906378, 203.33207587,\n",
              "       262.65519331, 262.65519331, 262.65519331, 187.51257789,\n",
              "       179.60282889, 349.66243223, 321.97831076, 203.33207587,\n",
              "       179.60282889, 266.61006781, 321.97831076, 345.70755773,\n",
              "       314.06856176, 223.10644835, 203.33207587, 369.43680471,\n",
              "       321.97831076, 242.88082083, 187.51257789, 258.70031882,\n",
              "       219.15157386, 270.56494231, 321.97831076, 270.56494231,\n",
              "       262.65519331, 349.66243223, 187.51257789, 250.79056983,\n",
              "       329.88805975, 282.42956579, 321.97831076, 266.61006781,\n",
              "       262.65519331, 242.88082083, 294.29418928, 345.70755773,\n",
              "       195.42232688, 262.65519331, 203.33207587])"
            ]
          },
          "metadata": {},
          "execution_count": 51
        }
      ]
    },
    {
      "cell_type": "code",
      "source": [
        "reg.coef_"
      ],
      "metadata": {
        "colab": {
          "base_uri": "https://localhost:8080/"
        },
        "id": "t1biDl77eOCP",
        "outputId": "1d0acdd4-8458-42ce-8379-c9ea220a600b"
      },
      "execution_count": null,
      "outputs": [
        {
          "output_type": "execute_result",
          "data": {
            "text/plain": [
              "array([39.54874496])"
            ]
          },
          "metadata": {},
          "execution_count": 34
        }
      ]
    },
    {
      "cell_type": "code",
      "source": [
        "reg.intercept_"
      ],
      "metadata": {
        "colab": {
          "base_uri": "https://localhost:8080/"
        },
        "id": "Nr2rl4WieuZQ",
        "outputId": "29c2e155-055f-4ca9-9d8f-7bda93e28064"
      },
      "execution_count": null,
      "outputs": [
        {
          "output_type": "execute_result",
          "data": {
            "text/plain": [
              "124.23458594672331"
            ]
          },
          "metadata": {},
          "execution_count": 35
        }
      ]
    },
    {
      "cell_type": "code",
      "source": [
        "reg.score(x_test, y_test)"
      ],
      "metadata": {
        "colab": {
          "base_uri": "https://localhost:8080/"
        },
        "id": "3UEEx4i6e6j_",
        "outputId": "f947f007-544c-4515-b6e3-bb4e6837daf0"
      },
      "execution_count": null,
      "outputs": [
        {
          "output_type": "execute_result",
          "data": {
            "text/plain": [
              "0.7633265438534859"
            ]
          },
          "metadata": {},
          "execution_count": 53
        }
      ]
    },
    {
      "cell_type": "code",
      "source": [
        ""
      ],
      "metadata": {
        "id": "NV4lGl1ckcHZ"
      },
      "execution_count": null,
      "outputs": []
    }
  ]
}